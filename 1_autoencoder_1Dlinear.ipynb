{
 "cells": [
  {
   "cell_type": "markdown",
   "id": "e4c013a8-6566-40f7-a1ac-489727bd186d",
   "metadata": {},
   "source": [
    "# Introduction:\n",
    "\n",
    "This tutorial demonstrates a 1-D AutoEncoder implemented in Pytorch. The contents are for educational purpose. \n",
    "\n",
    "This tutorial was accomplished with the help of the following references. "
   ]
  },
  {
   "cell_type": "markdown",
   "id": "30676003-e8f4-40ed-8ddb-5b5845ff1928",
   "metadata": {
    "tags": []
   },
   "source": [
    "# References:\n",
    "[1] Building your first Variational Autoencoder with PyTorch (https://www.youtube.com/watch?v=IQpP_cH8rrA&t=11s)\n",
    "\n",
    "[2] Autoencoder In PyTorch - Theory & Implementation, incluidng 2D CNN Autoencoder (https://www.youtube.com/watch?v=zp8clK9yCro)\n",
    "\n",
    "[3] Creating ANN with Pytorch On Pima Diabetes Dataset & Training On GPU\n",
    "(https://github.com/krishnaik06/Pytorch-Tutorial/blob/master/Tutorial%206-%20Creating%20ANN%20with%20Pytorch%20On%20Pima%20Diabetes%20Dataset%20%26%20Training%20On%20GPU.ipynb)\n",
    "\n",
    "[4] https://www.jeremyjordan.me/\n",
    "\n",
    "[5] How To Use GPU with PyTorch (https://wandb.ai/wandb/common-ml-errors/reports/How-To-Use-GPU-with-PyTorch---VmlldzozMzAxMDk#:~:text=The%20easiest%20way%20to%20check,the%20Nvidia%20driver%20correctly%20installed)"
   ]
  },
  {
   "cell_type": "code",
   "execution_count": 1,
   "id": "158ef1a1-04bb-403b-b28e-4aaf59042aee",
   "metadata": {
    "execution": {
     "iopub.execute_input": "2023-10-02T20:20:34.631928Z",
     "iopub.status.busy": "2023-10-02T20:20:34.631523Z",
     "iopub.status.idle": "2023-10-02T20:20:37.003373Z",
     "shell.execute_reply": "2023-10-02T20:20:37.002850Z",
     "shell.execute_reply.started": "2023-10-02T20:20:34.631907Z"
    },
    "tags": []
   },
   "outputs": [
    {
     "name": "stdout",
     "output_type": "stream",
     "text": [
      "Author: Chang\n",
      "\n",
      "Python implementation: CPython\n",
      "Python version       : 3.9.16\n",
      "IPython version      : 8.14.0\n",
      "\n",
      "torch: 2.0.1\n",
      "\n"
     ]
    }
   ],
   "source": [
    "# allow modules automatically reloaded when this notebook is rerun\n",
    "%load_ext autoreload\n",
    "%autoreload 2\n",
    "\n",
    "%load_ext watermark\n",
    "%watermark -a 'Chang' -v -p torch\n",
    "\n",
    "%matplotlib inline"
   ]
  },
  {
   "cell_type": "markdown",
   "id": "010d8bfe-90a6-42d4-98ca-460145870d71",
   "metadata": {},
   "source": [
    "# Import modules"
   ]
  },
  {
   "cell_type": "code",
   "execution_count": 2,
   "id": "bff91684-9aff-41a2-97bf-eb3a9e977639",
   "metadata": {
    "execution": {
     "iopub.execute_input": "2023-10-02T20:20:41.632913Z",
     "iopub.status.busy": "2023-10-02T20:20:41.632609Z",
     "iopub.status.idle": "2023-10-02T20:20:41.996317Z",
     "shell.execute_reply": "2023-10-02T20:20:41.995830Z",
     "shell.execute_reply.started": "2023-10-02T20:20:41.632896Z"
    },
    "tags": []
   },
   "outputs": [],
   "source": [
    "# import modules\n",
    "import torch\n",
    "import matplotlib.pyplot as plt\n",
    "\n",
    "# import my custom modules\n",
    "import utils"
   ]
  },
  {
   "cell_type": "markdown",
   "id": "c54e6e85-e255-4fef-848b-41b0dd1b93d4",
   "metadata": {},
   "source": [
    "# Get MNIST Handwritten Digits data"
   ]
  },
  {
   "cell_type": "code",
   "execution_count": 3,
   "id": "2a024e83-3b56-47c6-9c77-04e503e04314",
   "metadata": {
    "execution": {
     "iopub.execute_input": "2023-10-02T20:20:42.839788Z",
     "iopub.status.busy": "2023-10-02T20:20:42.839465Z",
     "iopub.status.idle": "2023-10-02T20:20:42.931090Z",
     "shell.execute_reply": "2023-10-02T20:20:42.930598Z",
     "shell.execute_reply.started": "2023-10-02T20:20:42.839770Z"
    },
    "tags": []
   },
   "outputs": [],
   "source": [
    "# get the MNIST Dataset\n",
    "mnist_data = utils.get_mnist_data()\n",
    "\n",
    "# DataLoader is used to load the dataset for training\n",
    "data_loader = torch.utils.data.DataLoader(\n",
    "    dataset = mnist_data,\n",
    "    batch_size = 64,\n",
    "\tshuffle = True\n",
    ")"
   ]
  },
  {
   "cell_type": "code",
   "execution_count": 4,
   "id": "582552e2-e1c2-49ce-a4aa-2f01b711ee49",
   "metadata": {
    "execution": {
     "iopub.execute_input": "2023-10-02T20:20:44.631028Z",
     "iopub.status.busy": "2023-10-02T20:20:44.630677Z",
     "iopub.status.idle": "2023-10-02T20:20:44.660107Z",
     "shell.execute_reply": "2023-10-02T20:20:44.659690Z",
     "shell.execute_reply.started": "2023-10-02T20:20:44.631010Z"
    },
    "tags": []
   },
   "outputs": [
    {
     "name": "stdout",
     "output_type": "stream",
     "text": [
      "tensor(0.) tensor(1.)\n"
     ]
    }
   ],
   "source": [
    "# check data range: we want the data values to range from 0 to 1\n",
    "dataiter = iter(data_loader)\n",
    "images, labels = next(dataiter)\n",
    "print(torch.min(images), torch.max(images))"
   ]
  },
  {
   "cell_type": "markdown",
   "id": "e14d2291-1d8a-4d22-9ae7-e6171009af8a",
   "metadata": {},
   "source": [
    "# Determine the computing device as CPU or GPU "
   ]
  },
  {
   "cell_type": "code",
   "execution_count": 5,
   "id": "580d123e-ad54-41bf-a5b8-ee184f1b56ed",
   "metadata": {
    "execution": {
     "iopub.execute_input": "2023-10-02T20:20:46.660352Z",
     "iopub.status.busy": "2023-10-02T20:20:46.659910Z",
     "iopub.status.idle": "2023-10-02T20:20:46.719170Z",
     "shell.execute_reply": "2023-10-02T20:20:46.718751Z",
     "shell.execute_reply.started": "2023-10-02T20:20:46.660335Z"
    },
    "tags": []
   },
   "outputs": [
    {
     "name": "stdout",
     "output_type": "stream",
     "text": [
      "The computing wil performed on: cuda:0\n"
     ]
    }
   ],
   "source": [
    "device = torch.device(\"cuda:0\" if torch.cuda.is_available() else \"cpu\")\n",
    "print(f\"The computing wil performed on: {device}\")"
   ]
  },
  {
   "cell_type": "markdown",
   "id": "51da4e08-9f3e-4dc9-82bb-8067cb8b883d",
   "metadata": {},
   "source": [
    "# Define AutoEncoder1D\n",
    "As the model name suggests, this autoencoder is working on 1D. In other words, any data with dimensionality more than 1 must be converted into a single vector before being fed into this autoencoder."
   ]
  },
  {
   "cell_type": "code",
   "execution_count": 6,
   "id": "67c4a203-c871-4ced-9395-491e112ab462",
   "metadata": {
    "execution": {
     "iopub.execute_input": "2023-10-02T20:20:47.756065Z",
     "iopub.status.busy": "2023-10-02T20:20:47.755869Z",
     "iopub.status.idle": "2023-10-02T20:20:47.775287Z",
     "shell.execute_reply": "2023-10-02T20:20:47.774908Z",
     "shell.execute_reply.started": "2023-10-02T20:20:47.756050Z"
    },
    "tags": []
   },
   "outputs": [],
   "source": [
    "# Creating a PyTorch class\n",
    "class AutoEncoder1D(torch.nn.Module):\n",
    "\tdef __init__(self):\n",
    "\t\tsuper().__init__()\n",
    "\n",
    "\t\t# Building an encoder reducing dimension from 784 to 4. \n",
    "        # Each Linear layer is followed by a Relu activation function.\n",
    "\t\tself.encoder = torch.nn.Sequential(\n",
    "\t\t\ttorch.nn.Linear(28 * 28, 128),\n",
    "\t\t\ttorch.nn.ReLU(),\n",
    "\t\t\ttorch.nn.Linear(128, 64),\n",
    "\t\t\ttorch.nn.ReLU(),\n",
    "\t\t\ttorch.nn.Linear(64, 16),\n",
    "\t\t\ttorch.nn.ReLU(),\n",
    "\t\t\ttorch.nn.Linear(16, 4) # output size n x 4\n",
    "\t\t)\n",
    "        \n",
    "\t\t# Building a decoder expanding dimension from 4 to 784.\n",
    "        # Note that the last Linear layer is a Sigmoid activation function that outputs values between 0 and 1\n",
    "\t\tself.decoder = torch.nn.Sequential(\n",
    "\t\t\ttorch.nn.Linear(4, 16),\n",
    "\t\t\ttorch.nn.ReLU(),\n",
    "\t\t\ttorch.nn.Linear(16, 64),\n",
    "\t\t\ttorch.nn.ReLU(),\n",
    "\t\t\ttorch.nn.Linear(64, 128),\n",
    "\t\t\ttorch.nn.ReLU(),\n",
    "\t\t\ttorch.nn.Linear(128, 28 * 28),\n",
    "\t\t\ttorch.nn.Sigmoid()\n",
    "\t\t)\n",
    "\n",
    "\tdef forward(self, x):\n",
    "\t\tencoded = self.encoder(x)\n",
    "\t\tdecoded = self.decoder(encoded)\n",
    "\t\treturn decoded\n"
   ]
  },
  {
   "cell_type": "markdown",
   "id": "6b177088-61b9-47c7-9694-9cd0637553ee",
   "metadata": {},
   "source": [
    "# Prepare for training"
   ]
  },
  {
   "cell_type": "code",
   "execution_count": 7,
   "id": "048e6c84-cad6-4625-9f87-48e0e062c5e2",
   "metadata": {
    "execution": {
     "iopub.execute_input": "2023-10-02T20:20:49.843731Z",
     "iopub.status.busy": "2023-10-02T20:20:49.843417Z",
     "iopub.status.idle": "2023-10-02T20:20:51.438399Z",
     "shell.execute_reply": "2023-10-02T20:20:51.437907Z",
     "shell.execute_reply.started": "2023-10-02T20:20:49.843712Z"
    },
    "tags": []
   },
   "outputs": [],
   "source": [
    "# Model Initialization\n",
    "model = AutoEncoder1D()\n",
    "\n",
    "# send the model to CPU/GPU; if GPU is used for sure, the command can be: model = model.cuda()\n",
    "model = model.to(device)\n",
    "\n",
    "# objective function to be optimized:  MSE Loss function\n",
    "cost_function = torch.nn.MSELoss()\n",
    "\n",
    "# Using an Adam Optimizer with lr = 0.1\n",
    "optimizer = torch.optim.Adam(\n",
    "    model.parameters(),\n",
    "\tlr = 1e-3,\n",
    "\tweight_decay = 1e-5\n",
    ")"
   ]
  },
  {
   "cell_type": "markdown",
   "id": "e4f76b4f-e27c-4223-b1fd-61cb2497e02c",
   "metadata": {},
   "source": [
    "# Perform training\n",
    "Note that this step may take a while if running on CPU and/or if the RAM is small"
   ]
  },
  {
   "cell_type": "code",
   "execution_count": 8,
   "id": "a86afd65-0889-4cdc-96a6-c128771fc1e3",
   "metadata": {
    "execution": {
     "iopub.execute_input": "2023-10-02T20:20:52.861280Z",
     "iopub.status.busy": "2023-10-02T20:20:52.860833Z",
     "iopub.status.idle": "2023-10-02T20:21:56.859239Z",
     "shell.execute_reply": "2023-10-02T20:21:56.858396Z",
     "shell.execute_reply.started": "2023-10-02T20:20:52.861262Z"
    },
    "tags": []
   },
   "outputs": [
    {
     "name": "stdout",
     "output_type": "stream",
     "text": [
      "Epoch 0, Loss:  0.0595\n",
      "Epoch 1, Loss:  0.0447\n",
      "Epoch 2, Loss:  0.0406\n",
      "Epoch 3, Loss:  0.0377\n",
      "Epoch 4, Loss:  0.0355\n",
      "Epoch 5, Loss:  0.0342\n",
      "Epoch 6, Loss:  0.0334\n",
      "Epoch 7, Loss:  0.0328\n",
      "Epoch 8, Loss:  0.0324\n",
      "Epoch 9, Loss:  0.0320\n"
     ]
    }
   ],
   "source": [
    "num_epochs = 10\n",
    "outputs = [0] * num_epochs\n",
    "losses = torch.empty(num_epochs)\n",
    "model.train()\n",
    "for epoch in range(num_epochs):\n",
    "    curr_losses = []\n",
    "    for (img, _) in data_loader:\n",
    "        # Reshaping the image to a 1D vector\n",
    "        img = img.reshape(-1, 28*28)\n",
    "        \n",
    "        # Transfer the image data to computing device; if GPU is used for sure, the command can be: img = img.cuda()\n",
    "        img = img.to(device)\n",
    "        \n",
    "        # Output generated by the Autoencoder\n",
    "        reconstructed = model(img)\n",
    "        \n",
    "        # Calculating the loss function\n",
    "        loss = cost_function(reconstructed, img)\n",
    "        \n",
    "        # The gradients are reset to zero, and then being computed.\n",
    "        optimizer.zero_grad()\n",
    "        loss.backward()\n",
    "        optimizer.step() # .step() performs parameter update\n",
    "        \n",
    "        # Storing the losses for visualization\n",
    "        curr_losses.append(loss)\n",
    "\n",
    "    outputs[epoch] = (img, reconstructed)        \n",
    "    losses[epoch] = torch.mean(torch.stack(curr_losses))\n",
    "    print(f\"Epoch {epoch}, Loss: {losses[epoch].item(): .4f}\")"
   ]
  },
  {
   "cell_type": "markdown",
   "id": "cca58642-0297-4497-9926-cedf47eaedb6",
   "metadata": {},
   "source": [
    "# Visualize results"
   ]
  },
  {
   "cell_type": "code",
   "execution_count": 9,
   "id": "74103d18-0b67-4835-8a12-aeb30f176d92",
   "metadata": {
    "execution": {
     "iopub.execute_input": "2023-10-02T20:22:24.882261Z",
     "iopub.status.busy": "2023-10-02T20:22:24.881902Z",
     "iopub.status.idle": "2023-10-02T20:22:25.282000Z",
     "shell.execute_reply": "2023-10-02T20:22:25.281529Z",
     "shell.execute_reply.started": "2023-10-02T20:22:24.882239Z"
    },
    "tags": []
   },
   "outputs": [
    {
     "data": {
      "text/plain": [
       "[<matplotlib.lines.Line2D at 0x2aab7c407760>]"
      ]
     },
     "execution_count": 9,
     "metadata": {},
     "output_type": "execute_result"
    },
    {
     "data": {
      "image/png": "[encoded data removed]",
      "text/plain": [
       "<Figure size 640x480 with 1 Axes>"
      ]
     },
     "metadata": {},
     "output_type": "display_data"
    }
   ],
   "source": [
    "# plot the losses\n",
    "plt.xlabel('Epochs')\n",
    "plt.ylabel('Loss')\n",
    "plt.plot([lo.cpu().detach().numpy() for lo in losses])"
   ]
  },
  {
   "cell_type": "code",
   "execution_count": 10,
   "id": "44af340d-1cd8-4afd-b2a5-9d7e5b0e8291",
   "metadata": {
    "execution": {
     "iopub.execute_input": "2023-10-02T20:22:26.676389Z",
     "iopub.status.busy": "2023-10-02T20:22:26.676039Z",
     "iopub.status.idle": "2023-10-02T20:22:27.234115Z",
     "shell.execute_reply": "2023-10-02T20:22:27.233546Z",
     "shell.execute_reply.started": "2023-10-02T20:22:26.676368Z"
    },
    "tags": []
   },
   "outputs": [
    {
     "data": {
      "image/png": "[encoded data removed]",
      "text/plain": [
       "<Figure size 500x1000 with 2 Axes>"
      ]
     },
     "metadata": {},
     "output_type": "display_data"
    }
   ],
   "source": [
    "# plot last example of original and reconstructed images\n",
    "plt.figure(figsize=(5, 10))\n",
    "plt.gray()\n",
    "for i, item in enumerate(img.cpu().detach().numpy()):\n",
    "    # Reshape the array for plotting\n",
    "    item = item.reshape(-1, 28, 28)\n",
    "    plt.subplot(1,2,1)\n",
    "    plt.imshow(item[0])\n",
    "\n",
    "for i, item in enumerate(reconstructed.cpu().detach().numpy()):\n",
    "    item = item.reshape(-1, 28, 28)\n",
    "    plt.subplot(1,2,2)\n",
    "    plt.imshow(item[0])"
   ]
  },
  {
   "cell_type": "code",
   "execution_count": null,
   "id": "880ed103-1311-4841-99fe-ebed8dfadcba",
   "metadata": {},
   "outputs": [],
   "source": []
  }
 ],
 "metadata": {
  "kernelspec": {
   "display_name": "learning",
   "language": "python",
   "name": "learning"
  },
  "language_info": {
   "codemirror_mode": {
    "name": "ipython",
    "version": 3
   },
   "file_extension": ".py",
   "mimetype": "text/x-python",
   "name": "python",
   "nbconvert_exporter": "python",
   "pygments_lexer": "ipython3",
   "version": "3.9.16"
  }
 },
 "nbformat": 4,
 "nbformat_minor": 5
}
